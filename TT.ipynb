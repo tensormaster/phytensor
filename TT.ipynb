{
 "cells": [
  {
   "cell_type": "markdown",
   "metadata": {},
   "source": [
    "## Tensor by prrLU and CI"
   ]
  },
  {
   "cell_type": "code",
   "execution_count": 1,
   "metadata": {},
   "outputs": [
    {
     "name": "stdout",
     "output_type": "stream",
     "text": [
      "Tensor Train (CI):\n",
      "M1 shape: (3, 2)\n",
      "M2 shape: (2, 3, 3)\n",
      "\n",
      "Tensor Train (prrLU):\n",
      "M1 shape: (3, 2)\n",
      "M2 shape: (2, 3, 3)\n"
     ]
    }
   ],
   "source": [
    "import numpy as np\n",
    "from scipy.linalg import lu\n",
    "\n",
    "def tensor_train_CI(T):\n",
    "    \"\"\"\n",
    "    使用矩陣交叉插值（CI）將 3x3x3 張量 T 分解為 Tensor Train (MPS) 形式\n",
    "    \"\"\"\n",
    "    # Step 1: Reshape T to a 3x9 matrix (將 i 視為行，(jk) 視為列)\n",
    "    T_mat = T.reshape(3, 9)\n",
    "    \n",
    "    # Step 2: 進行 SVD 分解\n",
    "    U, S, Vh = np.linalg.svd(T_mat, full_matrices=False)\n",
    "    \n",
    "    # Step 3: 取 rank-2 近似（保留前 2 個特徵值）\n",
    "    rank = 2\n",
    "    U_trunc = U[:, :rank]   # (3x2)\n",
    "    S_trunc = np.diag(S[:rank])   # (2x2)\n",
    "    V_trunc = Vh[:rank, :]  # (2x9)\n",
    "\n",
    "    # Step 4: 重新排列 V，使其形狀為 (2, 3, 3)\n",
    "    V_tensor = V_trunc.reshape(rank, 3, 3)\n",
    "\n",
    "    # Step 5: 產生 Tensor Train\n",
    "    M1 = U_trunc   # (3x2)\n",
    "    M2 = np.tensordot(S_trunc, V_tensor, axes=(1, 0))  # (2x3x3)\n",
    "\n",
    "    return M1, M2\n",
    "\n",
    "def tensor_train_prrLU(T):\n",
    "    \"\"\"\n",
    "    使用部分秩揭示 LU 分解（prrLU）將 3x3x3 張量 T 分解為 Tensor Train (MPS) 形式\n",
    "    \"\"\"\n",
    "    # Step 1: Reshape T to a 3x9 matrix (i 為行, (jk) 為列)\n",
    "    T_mat = T.reshape(3, 9)\n",
    "    \n",
    "    # Step 2: 執行 LU 分解\n",
    "    P, L, U = lu(T_mat)\n",
    "\n",
    "    # Step 3: 取 rank-2 近似\n",
    "    rank = 2\n",
    "    L_trunc = L[:, :rank]  # (3x2)\n",
    "    U_trunc = U[:rank, :]  # (2x9)\n",
    "\n",
    "    # Step 4: 重新排列 U 使其形狀為 (2, 3, 3)\n",
    "    U_tensor = U_trunc.reshape(rank, 3, 3)\n",
    "\n",
    "    # Step 5: 產生 Tensor Train\n",
    "    M1 = L_trunc   # (3x2)\n",
    "    M2 = U_tensor  # (2x3x3)\n",
    "\n",
    "    return M1, M2\n",
    "\n",
    "# 測試\n",
    "T = np.random.rand(3, 3, 3)\n",
    "M1_CI, M2_CI = tensor_train_CI(T)\n",
    "M1_prrLU, M2_prrLU = tensor_train_prrLU(T)\n",
    "\n",
    "# 打印結果\n",
    "print(\"Tensor Train (CI):\")\n",
    "print(\"M1 shape:\", M1_CI.shape)\n",
    "print(\"M2 shape:\", M2_CI.shape)\n",
    "\n",
    "print(\"\\nTensor Train (prrLU):\")\n",
    "print(\"M1 shape:\", M1_prrLU.shape)\n",
    "print(\"M2 shape:\", M2_prrLU.shape)\n"
   ]
  }
 ],
 "metadata": {
  "kernelspec": {
   "display_name": "finRL",
   "language": "python",
   "name": "python3"
  },
  "language_info": {
   "codemirror_mode": {
    "name": "ipython",
    "version": 3
   },
   "file_extension": ".py",
   "mimetype": "text/x-python",
   "name": "python",
   "nbconvert_exporter": "python",
   "pygments_lexer": "ipython3",
   "version": "3.10.16"
  }
 },
 "nbformat": 4,
 "nbformat_minor": 2
}
